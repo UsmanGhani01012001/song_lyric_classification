{
 "cells": [
  {
   "cell_type": "code",
   "execution_count": 71,
   "id": "4e948aa3-241d-4885-a6e9-cdae91cfb394",
   "metadata": {},
   "outputs": [
    {
     "data": {
      "text/html": [
       "<div>\n",
       "<style scoped>\n",
       "    .dataframe tbody tr th:only-of-type {\n",
       "        vertical-align: middle;\n",
       "    }\n",
       "\n",
       "    .dataframe tbody tr th {\n",
       "        vertical-align: top;\n",
       "    }\n",
       "\n",
       "    .dataframe thead th {\n",
       "        text-align: right;\n",
       "    }\n",
       "</style>\n",
       "<table border=\"1\" class=\"dataframe\">\n",
       "  <thead>\n",
       "    <tr style=\"text-align: right;\">\n",
       "      <th></th>\n",
       "      <th>Artist(s)</th>\n",
       "      <th>song</th>\n",
       "      <th>text</th>\n",
       "      <th>Length</th>\n",
       "      <th>emotion</th>\n",
       "      <th>Genre</th>\n",
       "      <th>Album</th>\n",
       "      <th>Release Date</th>\n",
       "      <th>Key</th>\n",
       "      <th>Tempo</th>\n",
       "      <th>...</th>\n",
       "      <th>Good for Morning Routine</th>\n",
       "      <th>Similar Artist 1</th>\n",
       "      <th>Similar Song 1</th>\n",
       "      <th>Similarity Score 1</th>\n",
       "      <th>Similar Artist 2</th>\n",
       "      <th>Similar Song 2</th>\n",
       "      <th>Similarity Score 2</th>\n",
       "      <th>Similar Artist 3</th>\n",
       "      <th>Similar Song 3</th>\n",
       "      <th>Similarity Score 3</th>\n",
       "    </tr>\n",
       "  </thead>\n",
       "  <tbody>\n",
       "    <tr>\n",
       "      <th>0</th>\n",
       "      <td>!!!</td>\n",
       "      <td>Even When the Waters Cold</td>\n",
       "      <td>Friends told her she was better off at the bot...</td>\n",
       "      <td>03:47</td>\n",
       "      <td>sadness</td>\n",
       "      <td>hip hop</td>\n",
       "      <td>Thr!!!er</td>\n",
       "      <td>29th April 2013</td>\n",
       "      <td>D min</td>\n",
       "      <td>105</td>\n",
       "      <td>...</td>\n",
       "      <td>0</td>\n",
       "      <td>Corey Smith</td>\n",
       "      <td>If I Could Do It Again</td>\n",
       "      <td>0.986061</td>\n",
       "      <td>Toby Keith</td>\n",
       "      <td>Drinks After Work</td>\n",
       "      <td>0.983719</td>\n",
       "      <td>Space</td>\n",
       "      <td>Neighbourhood</td>\n",
       "      <td>0.983236</td>\n",
       "    </tr>\n",
       "    <tr>\n",
       "      <th>1</th>\n",
       "      <td>!!!</td>\n",
       "      <td>One Girl / One Boy</td>\n",
       "      <td>Well I heard it, playing soft From a drunken b...</td>\n",
       "      <td>04:03</td>\n",
       "      <td>sadness</td>\n",
       "      <td>hip hop</td>\n",
       "      <td>Thr!!!er</td>\n",
       "      <td>29th April 2013</td>\n",
       "      <td>A# min</td>\n",
       "      <td>117</td>\n",
       "      <td>...</td>\n",
       "      <td>0</td>\n",
       "      <td>Hiroyuki Sawano</td>\n",
       "      <td>BRE@TH//LESS</td>\n",
       "      <td>0.995409</td>\n",
       "      <td>When In Rome</td>\n",
       "      <td>Heaven Knows</td>\n",
       "      <td>0.990905</td>\n",
       "      <td>Justice Crew</td>\n",
       "      <td>Everybody</td>\n",
       "      <td>0.984483</td>\n",
       "    </tr>\n",
       "    <tr>\n",
       "      <th>2</th>\n",
       "      <td>!!!</td>\n",
       "      <td>Pardon My Freedom</td>\n",
       "      <td>Oh my god, did I just say that out loud? Shoul...</td>\n",
       "      <td>05:51</td>\n",
       "      <td>joy</td>\n",
       "      <td>hip hop</td>\n",
       "      <td>Louden Up Now</td>\n",
       "      <td>8th June 2004</td>\n",
       "      <td>A Maj</td>\n",
       "      <td>121</td>\n",
       "      <td>...</td>\n",
       "      <td>0</td>\n",
       "      <td>Ricky Dillard</td>\n",
       "      <td>More Abundantly Medley Live</td>\n",
       "      <td>0.993176</td>\n",
       "      <td>Juliet</td>\n",
       "      <td>Avalon</td>\n",
       "      <td>0.965147</td>\n",
       "      <td>The Jacksons</td>\n",
       "      <td>Lovely One</td>\n",
       "      <td>0.956752</td>\n",
       "    </tr>\n",
       "    <tr>\n",
       "      <th>3</th>\n",
       "      <td>!!!</td>\n",
       "      <td>Ooo</td>\n",
       "      <td>[Verse 1] Remember when I called you on the te...</td>\n",
       "      <td>03:44</td>\n",
       "      <td>joy</td>\n",
       "      <td>hip hop</td>\n",
       "      <td>As If</td>\n",
       "      <td>16th October 2015</td>\n",
       "      <td>A min</td>\n",
       "      <td>122</td>\n",
       "      <td>...</td>\n",
       "      <td>0</td>\n",
       "      <td>Eric Clapton</td>\n",
       "      <td>Man Overboard</td>\n",
       "      <td>0.992749</td>\n",
       "      <td>Roxette</td>\n",
       "      <td>Don't Believe In Accidents</td>\n",
       "      <td>0.991494</td>\n",
       "      <td>Tiwa Savage</td>\n",
       "      <td>My Darlin</td>\n",
       "      <td>0.990381</td>\n",
       "    </tr>\n",
       "    <tr>\n",
       "      <th>4</th>\n",
       "      <td>!!!</td>\n",
       "      <td>Freedom 15</td>\n",
       "      <td>[Verse 1] Calling me like I got something to s...</td>\n",
       "      <td>06:00</td>\n",
       "      <td>joy</td>\n",
       "      <td>hip hop</td>\n",
       "      <td>As If</td>\n",
       "      <td>16th October 2015</td>\n",
       "      <td>F min</td>\n",
       "      <td>123</td>\n",
       "      <td>...</td>\n",
       "      <td>0</td>\n",
       "      <td>Cibo Matto</td>\n",
       "      <td>Lint Of Love</td>\n",
       "      <td>0.981610</td>\n",
       "      <td>Barrington Levy</td>\n",
       "      <td>Better Than Gold</td>\n",
       "      <td>0.981524</td>\n",
       "      <td>Freestyle</td>\n",
       "      <td>Its Automatic</td>\n",
       "      <td>0.981415</td>\n",
       "    </tr>\n",
       "  </tbody>\n",
       "</table>\n",
       "<p>5 rows × 39 columns</p>\n",
       "</div>"
      ],
      "text/plain": [
       "  Artist(s)                       song  \\\n",
       "0       !!!  Even When the Waters Cold   \n",
       "1       !!!         One Girl / One Boy   \n",
       "2       !!!          Pardon My Freedom   \n",
       "3       !!!                        Ooo   \n",
       "4       !!!                 Freedom 15   \n",
       "\n",
       "                                                text Length  emotion    Genre  \\\n",
       "0  Friends told her she was better off at the bot...  03:47  sadness  hip hop   \n",
       "1  Well I heard it, playing soft From a drunken b...  04:03  sadness  hip hop   \n",
       "2  Oh my god, did I just say that out loud? Shoul...  05:51      joy  hip hop   \n",
       "3  [Verse 1] Remember when I called you on the te...  03:44      joy  hip hop   \n",
       "4  [Verse 1] Calling me like I got something to s...  06:00      joy  hip hop   \n",
       "\n",
       "           Album       Release Date     Key  Tempo  ...  \\\n",
       "0       Thr!!!er    29th April 2013   D min    105  ...   \n",
       "1       Thr!!!er    29th April 2013  A# min    117  ...   \n",
       "2  Louden Up Now      8th June 2004   A Maj    121  ...   \n",
       "3          As If  16th October 2015   A min    122  ...   \n",
       "4          As If  16th October 2015   F min    123  ...   \n",
       "\n",
       "  Good for Morning Routine Similar Artist 1               Similar Song 1  \\\n",
       "0                        0      Corey Smith       If I Could Do It Again   \n",
       "1                        0  Hiroyuki Sawano                 BRE@TH//LESS   \n",
       "2                        0    Ricky Dillard  More Abundantly Medley Live   \n",
       "3                        0     Eric Clapton                Man Overboard   \n",
       "4                        0       Cibo Matto                 Lint Of Love   \n",
       "\n",
       "   Similarity Score 1  Similar Artist 2              Similar Song 2  \\\n",
       "0            0.986061        Toby Keith           Drinks After Work   \n",
       "1            0.995409      When In Rome                Heaven Knows   \n",
       "2            0.993176            Juliet                      Avalon   \n",
       "3            0.992749           Roxette  Don't Believe In Accidents   \n",
       "4            0.981610   Barrington Levy            Better Than Gold   \n",
       "\n",
       "   Similarity Score 2  Similar Artist 3  Similar Song 3  Similarity Score 3  \n",
       "0            0.983719             Space   Neighbourhood            0.983236  \n",
       "1            0.990905      Justice Crew       Everybody            0.984483  \n",
       "2            0.965147      The Jacksons      Lovely One            0.956752  \n",
       "3            0.991494       Tiwa Savage       My Darlin            0.990381  \n",
       "4            0.981524         Freestyle   Its Automatic            0.981415  \n",
       "\n",
       "[5 rows x 39 columns]"
      ]
     },
     "execution_count": 71,
     "metadata": {},
     "output_type": "execute_result"
    }
   ],
   "source": [
    "import pandas as pd\n",
    "df = pd.read_csv('spotify_dataset.csv')\n",
    "df = df[['text', 'emotion']]\n",
    "df = df.drop_duplicates()\n",
    "allowed_emotions = ['joy', 'sadness', 'anger', 'fear', 'love', 'surprise']\n",
    "df = df[df['emotion'].isin(allowed_emotions)]\n",
    "n = 4969\n",
    "target_emotions = ['joy', 'sadness', 'anger', 'fear', 'love', 'surprise']\n",
    "df = pd.concat([\n",
    "    df[df['emotion'] == emotion].sample(n=n, random_state=42)\n",
    "    for emotion in target_emotions\n",
    "], ignore_index=True)"
   ]
  },
  {
   "cell_type": "code",
   "execution_count": 47,
   "id": "29007ca5-fc00-4683-9d06-f590201c20db",
   "metadata": {},
   "outputs": [
    {
     "name": "stdout",
     "output_type": "stream",
     "text": [
      "Total memory: 8070.32 MB\n",
      "Used memory: 6420.54 MB\n",
      "Free memory: 1649.79 MB\n",
      "Memory usage: 79.6%\n"
     ]
    }
   ],
   "source": [
    "import psutil\n",
    "\n",
    "# Get virtual memory stats\n",
    "mem = psutil.virtual_memory()\n",
    "\n",
    "# Display memory info in MB\n",
    "print(f\"Total memory: {mem.total / (1024 ** 2):.2f} MB\")\n",
    "print(f\"Used memory: {mem.used / (1024 ** 2):.2f} MB\")\n",
    "print(f\"Free memory: {mem.available / (1024 ** 2):.2f} MB\")\n",
    "print(f\"Memory usage: {mem.percent}%\")\n"
   ]
  },
  {
   "cell_type": "code",
   "execution_count": 48,
   "id": "889584bc-1634-4fa7-95f8-690aec499b71",
   "metadata": {},
   "outputs": [
    {
     "name": "stdout",
     "output_type": "stream",
     "text": [
      "<class 'pandas.core.frame.DataFrame'>\n",
      "RangeIndex: 551443 entries, 0 to 551442\n",
      "Data columns (total 39 columns):\n",
      " #   Column                          Non-Null Count   Dtype  \n",
      "---  ------                          --------------   -----  \n",
      " 0   Artist(s)                       551443 non-null  object \n",
      " 1   song                            551427 non-null  object \n",
      " 2   text                            551443 non-null  object \n",
      " 3   Length                          551443 non-null  object \n",
      " 4   emotion                         551443 non-null  object \n",
      " 5   Genre                           551443 non-null  object \n",
      " 6   Album                           551391 non-null  object \n",
      " 7   Release Date                    551443 non-null  object \n",
      " 8   Key                             551443 non-null  object \n",
      " 9   Tempo                           551443 non-null  int64  \n",
      " 10  Loudness (db)                   551443 non-null  object \n",
      " 11  Time signature                  551435 non-null  object \n",
      " 12  Explicit                        551443 non-null  object \n",
      " 13  Popularity                      551443 non-null  int64  \n",
      " 14  Energy                          551443 non-null  int64  \n",
      " 15  Danceability                    551443 non-null  int64  \n",
      " 16  Positiveness                    551443 non-null  int64  \n",
      " 17  Speechiness                     551443 non-null  int64  \n",
      " 18  Liveness                        551443 non-null  int64  \n",
      " 19  Acousticness                    551443 non-null  int64  \n",
      " 20  Instrumentalness                551443 non-null  int64  \n",
      " 21  Good for Party                  551443 non-null  int64  \n",
      " 22  Good for Work/Study             551443 non-null  int64  \n",
      " 23  Good for Relaxation/Meditation  551443 non-null  int64  \n",
      " 24  Good for Exercise               551443 non-null  int64  \n",
      " 25  Good for Running                551443 non-null  int64  \n",
      " 26  Good for Yoga/Stretching        551443 non-null  int64  \n",
      " 27  Good for Driving                551443 non-null  int64  \n",
      " 28  Good for Social Gatherings      551443 non-null  int64  \n",
      " 29  Good for Morning Routine        551443 non-null  int64  \n",
      " 30  Similar Artist 1                551443 non-null  object \n",
      " 31  Similar Song 1                  551424 non-null  object \n",
      " 32  Similarity Score 1              551443 non-null  float64\n",
      " 33  Similar Artist 2                551443 non-null  object \n",
      " 34  Similar Song 2                  551423 non-null  object \n",
      " 35  Similarity Score 2              551443 non-null  float64\n",
      " 36  Similar Artist 3                551443 non-null  object \n",
      " 37  Similar Song 3                  551439 non-null  object \n",
      " 38  Similarity Score 3              551443 non-null  float64\n",
      "dtypes: float64(3), int64(18), object(18)\n",
      "memory usage: 164.1+ MB\n"
     ]
    }
   ],
   "source": [
    "df.info()"
   ]
  },
  {
   "cell_type": "code",
   "execution_count": 72,
   "id": "a977fdba-cb7b-46f1-b858-b410f987762a",
   "metadata": {},
   "outputs": [
    {
     "data": {
      "text/html": [
       "<div>\n",
       "<style scoped>\n",
       "    .dataframe tbody tr th:only-of-type {\n",
       "        vertical-align: middle;\n",
       "    }\n",
       "\n",
       "    .dataframe tbody tr th {\n",
       "        vertical-align: top;\n",
       "    }\n",
       "\n",
       "    .dataframe thead th {\n",
       "        text-align: right;\n",
       "    }\n",
       "</style>\n",
       "<table border=\"1\" class=\"dataframe\">\n",
       "  <thead>\n",
       "    <tr style=\"text-align: right;\">\n",
       "      <th></th>\n",
       "      <th>text</th>\n",
       "      <th>emotion</th>\n",
       "    </tr>\n",
       "  </thead>\n",
       "  <tbody>\n",
       "    <tr>\n",
       "      <th>0</th>\n",
       "      <td>Friends told her she was better off at the bot...</td>\n",
       "      <td>sadness</td>\n",
       "    </tr>\n",
       "    <tr>\n",
       "      <th>1</th>\n",
       "      <td>Well I heard it, playing soft From a drunken b...</td>\n",
       "      <td>sadness</td>\n",
       "    </tr>\n",
       "    <tr>\n",
       "      <th>2</th>\n",
       "      <td>Oh my god, did I just say that out loud? Shoul...</td>\n",
       "      <td>joy</td>\n",
       "    </tr>\n",
       "    <tr>\n",
       "      <th>3</th>\n",
       "      <td>[Verse 1] Remember when I called you on the te...</td>\n",
       "      <td>joy</td>\n",
       "    </tr>\n",
       "    <tr>\n",
       "      <th>4</th>\n",
       "      <td>[Verse 1] Calling me like I got something to s...</td>\n",
       "      <td>joy</td>\n",
       "    </tr>\n",
       "  </tbody>\n",
       "</table>\n",
       "</div>"
      ],
      "text/plain": [
       "                                                text  emotion\n",
       "0  Friends told her she was better off at the bot...  sadness\n",
       "1  Well I heard it, playing soft From a drunken b...  sadness\n",
       "2  Oh my god, did I just say that out loud? Shoul...      joy\n",
       "3  [Verse 1] Remember when I called you on the te...      joy\n",
       "4  [Verse 1] Calling me like I got something to s...      joy"
      ]
     },
     "execution_count": 72,
     "metadata": {},
     "output_type": "execute_result"
    }
   ],
   "source": [
    "df = df[['text', 'emotion']]\n",
    "df.head()"
   ]
  },
  {
   "cell_type": "code",
   "execution_count": 50,
   "id": "23def927-02c1-4ff4-9b5a-7af4c2818446",
   "metadata": {},
   "outputs": [
    {
     "name": "stdout",
     "output_type": "stream",
     "text": [
      "<class 'pandas.core.frame.DataFrame'>\n",
      "RangeIndex: 551443 entries, 0 to 551442\n",
      "Data columns (total 2 columns):\n",
      " #   Column   Non-Null Count   Dtype \n",
      "---  ------   --------------   ----- \n",
      " 0   text     551443 non-null  object\n",
      " 1   emotion  551443 non-null  object\n",
      "dtypes: object(2)\n",
      "memory usage: 8.4+ MB\n"
     ]
    }
   ],
   "source": [
    "df.info()"
   ]
  },
  {
   "cell_type": "code",
   "execution_count": 73,
   "id": "9f58f009-4abb-4f41-8c45-504d86522342",
   "metadata": {},
   "outputs": [
    {
     "name": "stdout",
     "output_type": "stream",
     "text": [
      "Total duplicate rows: 53947\n"
     ]
    }
   ],
   "source": [
    "duplicate_rows = df.duplicated()\n",
    "print(f\"Total duplicate rows: {duplicate_rows.sum()}\")"
   ]
  },
  {
   "cell_type": "code",
   "execution_count": 74,
   "id": "0efb1f0d-1936-4c92-98df-0503462ebd09",
   "metadata": {},
   "outputs": [
    {
     "name": "stdout",
     "output_type": "stream",
     "text": [
      "New shape after removing duplicates: (497496, 2)\n"
     ]
    }
   ],
   "source": [
    "df = df.drop_duplicates()\n",
    "print(f\"New shape after removing duplicates: {df.shape}\")"
   ]
  },
  {
   "cell_type": "code",
   "execution_count": 75,
   "id": "e2390c4e-9716-481e-aada-1f7359611509",
   "metadata": {},
   "outputs": [
    {
     "name": "stdout",
     "output_type": "stream",
     "text": [
      "emotion\n",
      "joy          189123\n",
      "sadness      156648\n",
      "anger         95433\n",
      "fear          25967\n",
      "love          25331\n",
      "surprise       4969\n",
      "True             17\n",
      "Love              2\n",
      "pink              2\n",
      "thirst            1\n",
      "angry             1\n",
      "confusion         1\n",
      "interest          1\n",
      "Name: count, dtype: int64\n"
     ]
    }
   ],
   "source": [
    "emotion_counts = df['emotion'].value_counts()\n",
    "print(emotion_counts)"
   ]
  },
  {
   "cell_type": "code",
   "execution_count": 76,
   "id": "0ac43184-dba6-4535-8128-a476e1770092",
   "metadata": {},
   "outputs": [],
   "source": [
    "allowed_emotions = ['joy', 'sadness', 'anger', 'fear', 'love', 'surprise']\n",
    "df = df[df['emotion'].isin(allowed_emotions)]"
   ]
  },
  {
   "cell_type": "code",
   "execution_count": 77,
   "id": "f1b5589b-65f1-4f71-8670-6b925a4f3179",
   "metadata": {},
   "outputs": [
    {
     "name": "stdout",
     "output_type": "stream",
     "text": [
      "emotion\n",
      "joy         189123\n",
      "sadness     156648\n",
      "anger        95433\n",
      "fear         25967\n",
      "love         25331\n",
      "surprise      4969\n",
      "Name: count, dtype: int64\n"
     ]
    }
   ],
   "source": [
    "emotion_counts = df['emotion'].value_counts()\n",
    "print(emotion_counts)"
   ]
  },
  {
   "cell_type": "code",
   "execution_count": 78,
   "id": "a91e17fb-e4d0-45c5-afa8-1626182c795e",
   "metadata": {},
   "outputs": [],
   "source": [
    "n = 4969\n",
    "target_emotions = ['joy', 'sadness', 'anger', 'fear', 'love', 'surprise']\n",
    "df = pd.concat([\n",
    "    df[df['emotion'] == emotion].sample(n=n, random_state=42)\n",
    "    for emotion in target_emotions\n",
    "], ignore_index=True)"
   ]
  },
  {
   "cell_type": "code",
   "execution_count": 79,
   "id": "ce8af5df-0757-4c8f-9510-1625636ed048",
   "metadata": {},
   "outputs": [
    {
     "name": "stdout",
     "output_type": "stream",
     "text": [
      "emotion\n",
      "joy         4969\n",
      "sadness     4969\n",
      "anger       4969\n",
      "fear        4969\n",
      "love        4969\n",
      "surprise    4969\n",
      "Name: count, dtype: int64\n"
     ]
    }
   ],
   "source": [
    "emotion_counts = df['emotion'].value_counts()\n",
    "print(emotion_counts)"
   ]
  },
  {
   "cell_type": "code",
   "execution_count": 80,
   "id": "676d4c76-e039-45a3-a296-81fff637253f",
   "metadata": {},
   "outputs": [
    {
     "name": "stdout",
     "output_type": "stream",
     "text": [
      "                                                text  anger  fear  joy  love  \\\n",
      "0  [Intro] The homie Young Bop told me He told me...      0     0    1     0   \n",
      "1  I spend too much time thinking about who I'm s...      0     0    1     0   \n",
      "2  [Verse 1] In his boat and through the dark he ...      0     0    1     0   \n",
      "3  [Intro: Mataya] Do you feel, feel Feel, feel D...      0     0    1     0   \n",
      "4  Plug Walk You know you ain't the plug, so how ...      0     0    1     0   \n",
      "\n",
      "   sadness  surprise  \n",
      "0        0         0  \n",
      "1        0         0  \n",
      "2        0         0  \n",
      "3        0         0  \n",
      "4        0         0  \n",
      "text        object\n",
      "anger        int64\n",
      "fear         int64\n",
      "joy          int64\n",
      "love         int64\n",
      "sadness      int64\n",
      "surprise     int64\n",
      "dtype: object\n"
     ]
    }
   ],
   "source": [
    "# One-hot encode 'emotion' column\n",
    "one_hot_emotions = pd.get_dummies(df['emotion'], dtype=int)  # ensure 0/1 integers\n",
    "\n",
    "# Concatenate with the 'text' column\n",
    "df = pd.concat([df['text'], one_hot_emotions], axis=1)\n",
    "\n",
    "# Preview the result\n",
    "print(df_encoded.head())\n",
    "print(df_encoded.dtypes)  # Verify all columns are int, not bool\n"
   ]
  },
  {
   "cell_type": "code",
   "execution_count": 81,
   "id": "8d815b4b-bb90-4a4c-903e-1eef6bd5c353",
   "metadata": {},
   "outputs": [
    {
     "name": "stdout",
     "output_type": "stream",
     "text": [
      "text        object\n",
      "anger        int64\n",
      "fear         int64\n",
      "joy          int64\n",
      "love         int64\n",
      "sadness      int64\n",
      "surprise     int64\n",
      "dtype: object\n"
     ]
    }
   ],
   "source": [
    "# # Convert boolean columns to integers (0 and 1)\n",
    "# for col in df_encoded.columns[1:]:  # Skip the 'text' column\n",
    "#     df_encoded[col] = df_encoded[col].astype(int)\n",
    "\n",
    "# Verify the data types\n",
    "print(df_encoded.dtypes)\n"
   ]
  },
  {
   "cell_type": "code",
   "execution_count": 82,
   "id": "9e9871e0-1b9d-4429-8ecd-b73378e5d403",
   "metadata": {},
   "outputs": [
    {
     "name": "stdout",
     "output_type": "stream",
     "text": [
      "                                                text  anger  fear  joy  love  \\\n",
      "0  [Intro] The homie Young Bop told me He told me...      0     0    1     0   \n",
      "1  I spend too much time thinking about who I'm s...      0     0    1     0   \n",
      "2  [Verse 1] In his boat and through the dark he ...      0     0    1     0   \n",
      "3  [Intro: Mataya] Do you feel, feel Feel, feel D...      0     0    1     0   \n",
      "4  Plug Walk You know you ain't the plug, so how ...      0     0    1     0   \n",
      "\n",
      "   sadness  surprise  \n",
      "0        0         0  \n",
      "1        0         0  \n",
      "2        0         0  \n",
      "3        0         0  \n",
      "4        0         0  \n",
      "text        object\n",
      "anger        int64\n",
      "fear         int64\n",
      "joy          int64\n",
      "love         int64\n",
      "sadness      int64\n",
      "surprise     int64\n",
      "dtype: object\n"
     ]
    }
   ],
   "source": [
    "print(df_encoded.head())\n",
    "print(df_encoded.dtypes)  "
   ]
  },
  {
   "cell_type": "code",
   "execution_count": 83,
   "id": "d5908a07-2a8d-4c2d-ac6d-466d5fb699cd",
   "metadata": {},
   "outputs": [
    {
     "data": {
      "text/html": [
       "<div>\n",
       "<style scoped>\n",
       "    .dataframe tbody tr th:only-of-type {\n",
       "        vertical-align: middle;\n",
       "    }\n",
       "\n",
       "    .dataframe tbody tr th {\n",
       "        vertical-align: top;\n",
       "    }\n",
       "\n",
       "    .dataframe thead th {\n",
       "        text-align: right;\n",
       "    }\n",
       "</style>\n",
       "<table border=\"1\" class=\"dataframe\">\n",
       "  <thead>\n",
       "    <tr style=\"text-align: right;\">\n",
       "      <th></th>\n",
       "      <th>text</th>\n",
       "      <th>anger</th>\n",
       "      <th>fear</th>\n",
       "      <th>joy</th>\n",
       "      <th>love</th>\n",
       "      <th>sadness</th>\n",
       "      <th>surprise</th>\n",
       "    </tr>\n",
       "  </thead>\n",
       "  <tbody>\n",
       "    <tr>\n",
       "      <th>0</th>\n",
       "      <td>[Intro] The homie Young Bop told me He told me...</td>\n",
       "      <td>0</td>\n",
       "      <td>0</td>\n",
       "      <td>1</td>\n",
       "      <td>0</td>\n",
       "      <td>0</td>\n",
       "      <td>0</td>\n",
       "    </tr>\n",
       "    <tr>\n",
       "      <th>1</th>\n",
       "      <td>I spend too much time thinking about who I'm s...</td>\n",
       "      <td>0</td>\n",
       "      <td>0</td>\n",
       "      <td>1</td>\n",
       "      <td>0</td>\n",
       "      <td>0</td>\n",
       "      <td>0</td>\n",
       "    </tr>\n",
       "    <tr>\n",
       "      <th>2</th>\n",
       "      <td>[Verse 1] In his boat and through the dark he ...</td>\n",
       "      <td>0</td>\n",
       "      <td>0</td>\n",
       "      <td>1</td>\n",
       "      <td>0</td>\n",
       "      <td>0</td>\n",
       "      <td>0</td>\n",
       "    </tr>\n",
       "    <tr>\n",
       "      <th>3</th>\n",
       "      <td>[Intro: Mataya] Do you feel, feel Feel, feel D...</td>\n",
       "      <td>0</td>\n",
       "      <td>0</td>\n",
       "      <td>1</td>\n",
       "      <td>0</td>\n",
       "      <td>0</td>\n",
       "      <td>0</td>\n",
       "    </tr>\n",
       "    <tr>\n",
       "      <th>4</th>\n",
       "      <td>Plug Walk You know you ain't the plug, so how ...</td>\n",
       "      <td>0</td>\n",
       "      <td>0</td>\n",
       "      <td>1</td>\n",
       "      <td>0</td>\n",
       "      <td>0</td>\n",
       "      <td>0</td>\n",
       "    </tr>\n",
       "  </tbody>\n",
       "</table>\n",
       "</div>"
      ],
      "text/plain": [
       "                                                text  anger  fear  joy  love  \\\n",
       "0  [Intro] The homie Young Bop told me He told me...      0     0    1     0   \n",
       "1  I spend too much time thinking about who I'm s...      0     0    1     0   \n",
       "2  [Verse 1] In his boat and through the dark he ...      0     0    1     0   \n",
       "3  [Intro: Mataya] Do you feel, feel Feel, feel D...      0     0    1     0   \n",
       "4  Plug Walk You know you ain't the plug, so how ...      0     0    1     0   \n",
       "\n",
       "   sadness  surprise  \n",
       "0        0         0  \n",
       "1        0         0  \n",
       "2        0         0  \n",
       "3        0         0  \n",
       "4        0         0  "
      ]
     },
     "execution_count": 83,
     "metadata": {},
     "output_type": "execute_result"
    }
   ],
   "source": [
    "df.head()"
   ]
  },
  {
   "cell_type": "code",
   "execution_count": 64,
   "id": "41a596f7-d184-4d48-8a7a-383676bd11ab",
   "metadata": {},
   "outputs": [
    {
     "name": "stdout",
     "output_type": "stream",
     "text": [
      "<class 'pandas.core.frame.DataFrame'>\n",
      "RangeIndex: 29814 entries, 0 to 29813\n",
      "Data columns (total 7 columns):\n",
      " #   Column    Non-Null Count  Dtype \n",
      "---  ------    --------------  ----- \n",
      " 0   text      29814 non-null  object\n",
      " 1   anger     29814 non-null  int64 \n",
      " 2   fear      29814 non-null  int64 \n",
      " 3   joy       29814 non-null  int64 \n",
      " 4   love      29814 non-null  int64 \n",
      " 5   sadness   29814 non-null  int64 \n",
      " 6   surprise  29814 non-null  int64 \n",
      "dtypes: int64(6), object(1)\n",
      "memory usage: 1.6+ MB\n"
     ]
    }
   ],
   "source": [
    "df.info()"
   ]
  },
  {
   "cell_type": "code",
   "execution_count": 67,
   "id": "07871201-1f72-4562-baf2-ba580d6743df",
   "metadata": {},
   "outputs": [
    {
     "name": "stdout",
     "output_type": "stream",
     "text": [
      "Accuracy: 0.15025993627368775\n",
      "\n",
      "Classification Report:\n",
      "               precision    recall  f1-score   support\n",
      "\n",
      "       anger       0.64      0.20      0.31      1023\n",
      "        fear       0.77      0.11      0.20       967\n",
      "         joy       0.65      0.04      0.07       966\n",
      "        love       0.77      0.24      0.37      1034\n",
      "     sadness       0.61      0.09      0.15      1014\n",
      "    surprise       0.91      0.22      0.36       959\n",
      "\n",
      "   micro avg       0.74      0.15      0.25      5963\n",
      "   macro avg       0.72      0.15      0.24      5963\n",
      "weighted avg       0.72      0.15      0.24      5963\n",
      " samples avg       0.15      0.15      0.15      5963\n",
      "\n"
     ]
    },
    {
     "name": "stderr",
     "output_type": "stream",
     "text": [
      "D:\\pythonAllcode\\project1\\lib\\site-packages\\sklearn\\metrics\\_classification.py:1565: UndefinedMetricWarning: Precision is ill-defined and being set to 0.0 in samples with no predicted labels. Use `zero_division` parameter to control this behavior.\n",
      "  _warn_prf(average, modifier, f\"{metric.capitalize()} is\", len(result))\n"
     ]
    }
   ],
   "source": [
    "from sklearn.model_selection import train_test_split\n",
    "from sklearn.feature_extraction.text import TfidfVectorizer\n",
    "from sklearn.linear_model import LogisticRegression\n",
    "from sklearn.multiclass import OneVsRestClassifier\n",
    "from sklearn.metrics import classification_report, accuracy_score\n",
    "\n",
    "# Features and target\n",
    "X = df['text']\n",
    "y = df.drop('text', axis=1)\n",
    "\n",
    "# Convert list of tokens to string if necessary\n",
    "X = X.apply(lambda x: ' '.join(x) if isinstance(x, list) else x)\n",
    "\n",
    "# Split into training and validation sets\n",
    "X_train, X_val, y_train, y_val = train_test_split(X, y, test_size=0.2, random_state=42)\n",
    "\n",
    "# TF-IDF Vectorization\n",
    "tfidf = TfidfVectorizer(max_features=5000)\n",
    "X_train_tfidf = tfidf.fit_transform(X_train)\n",
    "X_val_tfidf = tfidf.transform(X_val)\n",
    "\n",
    "# Train with OneVsRestClassifier\n",
    "model = OneVsRestClassifier(LogisticRegression(max_iter=1000))\n",
    "model.fit(X_train_tfidf, y_train)\n",
    "\n",
    "# Predict\n",
    "y_pred = model.predict(X_val_tfidf)\n",
    "\n",
    "# Evaluation\n",
    "print(\"Accuracy:\", accuracy_score(y_val, y_pred))\n",
    "print(\"\\nClassification Report:\\n\", classification_report(y_val, y_pred, target_names=y.columns))\n"
   ]
  },
  {
   "cell_type": "code",
   "execution_count": 68,
   "id": "5e31ab78-e61f-47b1-ba23-aff3fd17c066",
   "metadata": {},
   "outputs": [
    {
     "data": {
      "text/html": [
       "<div>\n",
       "<style scoped>\n",
       "    .dataframe tbody tr th:only-of-type {\n",
       "        vertical-align: middle;\n",
       "    }\n",
       "\n",
       "    .dataframe tbody tr th {\n",
       "        vertical-align: top;\n",
       "    }\n",
       "\n",
       "    .dataframe thead th {\n",
       "        text-align: right;\n",
       "    }\n",
       "</style>\n",
       "<table border=\"1\" class=\"dataframe\">\n",
       "  <thead>\n",
       "    <tr style=\"text-align: right;\">\n",
       "      <th></th>\n",
       "      <th>text</th>\n",
       "      <th>anger</th>\n",
       "      <th>fear</th>\n",
       "      <th>joy</th>\n",
       "      <th>love</th>\n",
       "      <th>sadness</th>\n",
       "      <th>surprise</th>\n",
       "    </tr>\n",
       "  </thead>\n",
       "  <tbody>\n",
       "    <tr>\n",
       "      <th>0</th>\n",
       "      <td>[Intro] The homie Young Bop told me He told me...</td>\n",
       "      <td>0</td>\n",
       "      <td>0</td>\n",
       "      <td>1</td>\n",
       "      <td>0</td>\n",
       "      <td>0</td>\n",
       "      <td>0</td>\n",
       "    </tr>\n",
       "    <tr>\n",
       "      <th>1</th>\n",
       "      <td>I spend too much time thinking about who I'm s...</td>\n",
       "      <td>0</td>\n",
       "      <td>0</td>\n",
       "      <td>1</td>\n",
       "      <td>0</td>\n",
       "      <td>0</td>\n",
       "      <td>0</td>\n",
       "    </tr>\n",
       "    <tr>\n",
       "      <th>2</th>\n",
       "      <td>[Verse 1] In his boat and through the dark he ...</td>\n",
       "      <td>0</td>\n",
       "      <td>0</td>\n",
       "      <td>1</td>\n",
       "      <td>0</td>\n",
       "      <td>0</td>\n",
       "      <td>0</td>\n",
       "    </tr>\n",
       "    <tr>\n",
       "      <th>3</th>\n",
       "      <td>[Intro: Mataya] Do you feel, feel Feel, feel D...</td>\n",
       "      <td>0</td>\n",
       "      <td>0</td>\n",
       "      <td>1</td>\n",
       "      <td>0</td>\n",
       "      <td>0</td>\n",
       "      <td>0</td>\n",
       "    </tr>\n",
       "    <tr>\n",
       "      <th>4</th>\n",
       "      <td>Plug Walk You know you ain't the plug, so how ...</td>\n",
       "      <td>0</td>\n",
       "      <td>0</td>\n",
       "      <td>1</td>\n",
       "      <td>0</td>\n",
       "      <td>0</td>\n",
       "      <td>0</td>\n",
       "    </tr>\n",
       "  </tbody>\n",
       "</table>\n",
       "</div>"
      ],
      "text/plain": [
       "                                                text  anger  fear  joy  love  \\\n",
       "0  [Intro] The homie Young Bop told me He told me...      0     0    1     0   \n",
       "1  I spend too much time thinking about who I'm s...      0     0    1     0   \n",
       "2  [Verse 1] In his boat and through the dark he ...      0     0    1     0   \n",
       "3  [Intro: Mataya] Do you feel, feel Feel, feel D...      0     0    1     0   \n",
       "4  Plug Walk You know you ain't the plug, so how ...      0     0    1     0   \n",
       "\n",
       "   sadness  surprise  \n",
       "0        0         0  \n",
       "1        0         0  \n",
       "2        0         0  \n",
       "3        0         0  \n",
       "4        0         0  "
      ]
     },
     "execution_count": 68,
     "metadata": {},
     "output_type": "execute_result"
    }
   ],
   "source": [
    "df.head()"
   ]
  },
  {
   "cell_type": "code",
   "execution_count": 69,
   "id": "1b32b41a-daa3-4bdb-88d0-d1265bf4a9ce",
   "metadata": {},
   "outputs": [
    {
     "name": "stdout",
     "output_type": "stream",
     "text": [
      "          Count of 0s  Count of 1s\n",
      "anger           24845         4969\n",
      "fear            24845         4969\n",
      "joy             24845         4969\n",
      "love            24845         4969\n",
      "sadness         24845         4969\n",
      "surprise        24845         4969\n"
     ]
    }
   ],
   "source": [
    "# Count of 0s and 1s in each category (column-wise)\n",
    "emotion_counts = df_encoded.drop('text', axis=1).apply(pd.Series.value_counts).T\n",
    "\n",
    "# Rename columns for clarity\n",
    "emotion_counts.columns = ['Count of 0s', 'Count of 1s']\n",
    "\n",
    "# Display the result\n",
    "print(emotion_counts)\n"
   ]
  },
  {
   "cell_type": "code",
   "execution_count": 70,
   "id": "609767b4-01f8-4d86-bf68-4fe4acb29a87",
   "metadata": {},
   "outputs": [
    {
     "name": "stdout",
     "output_type": "stream",
     "text": [
      "          False (0)  True (1)\n",
      "anger         24845      4969\n",
      "fear          24845      4969\n",
      "joy           24845      4969\n",
      "love          24845      4969\n",
      "sadness       24845      4969\n",
      "surprise      24845      4969\n"
     ]
    }
   ],
   "source": [
    "# Assuming 'text' column is still present and the rest are emotion columns (binary: 0/1)\n",
    "emotion_counts = df.drop(columns='text').apply(pd.Series.value_counts).T\n",
    "\n",
    "# Rename for clarity\n",
    "emotion_counts.columns = ['False (0)', 'True (1)']\n",
    "\n",
    "# Show the result\n",
    "print(emotion_counts)\n"
   ]
  },
  {
   "cell_type": "code",
   "execution_count": null,
   "id": "e00173e9-9e7e-4b38-8c37-7fe959e3d827",
   "metadata": {},
   "outputs": [],
   "source": []
  }
 ],
 "metadata": {
  "kernelspec": {
   "display_name": "Python 3 (ipykernel)",
   "language": "python",
   "name": "python3"
  },
  "language_info": {
   "codemirror_mode": {
    "name": "ipython",
    "version": 3
   },
   "file_extension": ".py",
   "mimetype": "text/x-python",
   "name": "python",
   "nbconvert_exporter": "python",
   "pygments_lexer": "ipython3",
   "version": "3.10.11"
  }
 },
 "nbformat": 4,
 "nbformat_minor": 5
}
