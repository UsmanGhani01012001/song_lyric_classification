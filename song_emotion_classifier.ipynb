{
 "cells": [
  {
   "cell_type": "code",
   "execution_count": 1,
   "id": "f6040ebe-2f3f-4ff3-bd6b-9fb0ccc2f241",
   "metadata": {},
   "outputs": [],
   "source": [
    "import pandas as pd\n",
    "df = pd.read_csv('spotify_dataset.csv', encoding='latin1') \n",
    "df = df[['text', 'emotion']]\n",
    "df = df.drop_duplicates()\n",
    "allowed_emotions = ['joy', 'sadness', 'anger', 'fear', 'love', 'surprise']\n",
    "df = df[df['emotion'].isin(allowed_emotions)]\n",
    "n = 4000\n",
    "target_emotions = ['joy', 'sadness', 'anger', 'fear', 'love', 'surprise']\n",
    "df = pd.concat([\n",
    "    df[df['emotion'] == emotion].sample(n=n, random_state=42)\n",
    "    for emotion in target_emotions\n",
    "], ignore_index=True)"
   ]
  },
  {
   "cell_type": "code",
   "execution_count": 2,
   "id": "01a1b2a1-cd0a-420b-8673-43320e2752a2",
   "metadata": {},
   "outputs": [],
   "source": [
    "df.to_csv('spotify_cleaned.csv', index=False)"
   ]
  },
  {
   "cell_type": "code",
   "execution_count": 22,
   "id": "84c396a7-66c8-4d41-8cde-abb2b1768f03",
   "metadata": {},
   "outputs": [
    {
     "name": "stdout",
     "output_type": "stream",
     "text": [
      "<class 'pandas.core.frame.DataFrame'>\n",
      "RangeIndex: 24000 entries, 0 to 23999\n",
      "Data columns (total 2 columns):\n",
      " #   Column   Non-Null Count  Dtype \n",
      "---  ------   --------------  ----- \n",
      " 0   text     24000 non-null  object\n",
      " 1   emotion  24000 non-null  object\n",
      "dtypes: object(2)\n",
      "memory usage: 375.1+ KB\n"
     ]
    }
   ],
   "source": [
    "df.info()"
   ]
  },
  {
   "cell_type": "code",
   "execution_count": 29,
   "id": "f993c8f0-d8c6-401f-bf6d-948018590aa3",
   "metadata": {},
   "outputs": [
    {
     "name": "stdout",
     "output_type": "stream",
     "text": [
      "['joy' 'sadness' 'anger' 'fear' 'love' 'surprise']\n"
     ]
    }
   ],
   "source": [
    "print(df['emotion'].unique())"
   ]
  },
  {
   "cell_type": "code",
   "execution_count": 30,
   "id": "b474de70-167c-446e-84a8-744f54656a57",
   "metadata": {},
   "outputs": [
    {
     "name": "stdout",
     "output_type": "stream",
     "text": [
      "Label mapping: {'anger': np.int64(0), 'fear': np.int64(1), 'joy': np.int64(2), 'love': np.int64(3), 'sadness': np.int64(4), 'surprise': np.int64(5)}\n",
      "                                                text  emotion_encoded\n",
      "0  [Intro] The homie Young Bop told me He told me...                2\n",
      "1  I spend too much time thinking about who I'm s...                2\n",
      "2  [Verse 1] In his boat and through the dark he ...                2\n",
      "3  [Intro: Mataya] Do you feel, feel Feel, feel D...                2\n",
      "4  Plug Walk You know you ain't the plug, so how ...                2\n"
     ]
    }
   ],
   "source": [
    "from sklearn.preprocessing import LabelEncoder\n",
    "\n",
    "# Create LabelEncoder instance\n",
    "le = LabelEncoder()\n",
    "\n",
    "# Fit and transform the emotion column\n",
    "df['emotion_encoded'] = le.fit_transform(df['emotion'])\n",
    "\n",
    "# View the mapping\n",
    "label_mapping = dict(zip(le.classes_, le.transform(le.classes_)))\n",
    "print(\"Label mapping:\", label_mapping)\n",
    "df = df.drop(columns=['emotion'])\n",
    "# Optional: view first few rows\n",
    "print(df.head())\n"
   ]
  },
  {
   "cell_type": "code",
   "execution_count": 9,
   "id": "075c93f2-ecd0-4716-ad97-3d9b250688bf",
   "metadata": {},
   "outputs": [],
   "source": [
    "encoded_df = pd.get_dummies(df, columns=['emotion'])"
   ]
  },
  {
   "cell_type": "code",
   "execution_count": 10,
   "id": "d5d5fb85-0095-429c-9019-9040b672dda4",
   "metadata": {},
   "outputs": [
    {
     "data": {
      "text/html": [
       "<div>\n",
       "<style scoped>\n",
       "    .dataframe tbody tr th:only-of-type {\n",
       "        vertical-align: middle;\n",
       "    }\n",
       "\n",
       "    .dataframe tbody tr th {\n",
       "        vertical-align: top;\n",
       "    }\n",
       "\n",
       "    .dataframe thead th {\n",
       "        text-align: right;\n",
       "    }\n",
       "</style>\n",
       "<table border=\"1\" class=\"dataframe\">\n",
       "  <thead>\n",
       "    <tr style=\"text-align: right;\">\n",
       "      <th></th>\n",
       "      <th>text</th>\n",
       "      <th>emotion</th>\n",
       "      <th>emotion_encoded</th>\n",
       "    </tr>\n",
       "  </thead>\n",
       "  <tbody>\n",
       "    <tr>\n",
       "      <th>0</th>\n",
       "      <td>[Intro] The homie Young Bop told me He told me...</td>\n",
       "      <td>joy</td>\n",
       "      <td>2</td>\n",
       "    </tr>\n",
       "    <tr>\n",
       "      <th>1</th>\n",
       "      <td>I spend too much time thinking about who I'm s...</td>\n",
       "      <td>joy</td>\n",
       "      <td>2</td>\n",
       "    </tr>\n",
       "    <tr>\n",
       "      <th>2</th>\n",
       "      <td>[Verse 1] In his boat and through the dark he ...</td>\n",
       "      <td>joy</td>\n",
       "      <td>2</td>\n",
       "    </tr>\n",
       "    <tr>\n",
       "      <th>3</th>\n",
       "      <td>[Intro: Mataya] Do you feel, feel Feel, feel D...</td>\n",
       "      <td>joy</td>\n",
       "      <td>2</td>\n",
       "    </tr>\n",
       "    <tr>\n",
       "      <th>4</th>\n",
       "      <td>Plug Walk You know you ain't the plug, so how ...</td>\n",
       "      <td>joy</td>\n",
       "      <td>2</td>\n",
       "    </tr>\n",
       "  </tbody>\n",
       "</table>\n",
       "</div>"
      ],
      "text/plain": [
       "                                                text emotion  emotion_encoded\n",
       "0  [Intro] The homie Young Bop told me He told me...     joy                2\n",
       "1  I spend too much time thinking about who I'm s...     joy                2\n",
       "2  [Verse 1] In his boat and through the dark he ...     joy                2\n",
       "3  [Intro: Mataya] Do you feel, feel Feel, feel D...     joy                2\n",
       "4  Plug Walk You know you ain't the plug, so how ...     joy                2"
      ]
     },
     "execution_count": 10,
     "metadata": {},
     "output_type": "execute_result"
    }
   ],
   "source": [
    "df.head()"
   ]
  },
  {
   "cell_type": "code",
   "execution_count": 11,
   "id": "7628e638-d624-4659-b2ff-bd575f008b40",
   "metadata": {},
   "outputs": [
    {
     "data": {
      "text/html": [
       "<div>\n",
       "<style scoped>\n",
       "    .dataframe tbody tr th:only-of-type {\n",
       "        vertical-align: middle;\n",
       "    }\n",
       "\n",
       "    .dataframe tbody tr th {\n",
       "        vertical-align: top;\n",
       "    }\n",
       "\n",
       "    .dataframe thead th {\n",
       "        text-align: right;\n",
       "    }\n",
       "</style>\n",
       "<table border=\"1\" class=\"dataframe\">\n",
       "  <thead>\n",
       "    <tr style=\"text-align: right;\">\n",
       "      <th></th>\n",
       "      <th>text</th>\n",
       "      <th>emotion_encoded</th>\n",
       "      <th>emotion_anger</th>\n",
       "      <th>emotion_fear</th>\n",
       "      <th>emotion_joy</th>\n",
       "      <th>emotion_love</th>\n",
       "      <th>emotion_sadness</th>\n",
       "      <th>emotion_surprise</th>\n",
       "    </tr>\n",
       "  </thead>\n",
       "  <tbody>\n",
       "    <tr>\n",
       "      <th>0</th>\n",
       "      <td>[Intro] The homie Young Bop told me He told me...</td>\n",
       "      <td>2</td>\n",
       "      <td>False</td>\n",
       "      <td>False</td>\n",
       "      <td>True</td>\n",
       "      <td>False</td>\n",
       "      <td>False</td>\n",
       "      <td>False</td>\n",
       "    </tr>\n",
       "    <tr>\n",
       "      <th>1</th>\n",
       "      <td>I spend too much time thinking about who I'm s...</td>\n",
       "      <td>2</td>\n",
       "      <td>False</td>\n",
       "      <td>False</td>\n",
       "      <td>True</td>\n",
       "      <td>False</td>\n",
       "      <td>False</td>\n",
       "      <td>False</td>\n",
       "    </tr>\n",
       "    <tr>\n",
       "      <th>2</th>\n",
       "      <td>[Verse 1] In his boat and through the dark he ...</td>\n",
       "      <td>2</td>\n",
       "      <td>False</td>\n",
       "      <td>False</td>\n",
       "      <td>True</td>\n",
       "      <td>False</td>\n",
       "      <td>False</td>\n",
       "      <td>False</td>\n",
       "    </tr>\n",
       "    <tr>\n",
       "      <th>3</th>\n",
       "      <td>[Intro: Mataya] Do you feel, feel Feel, feel D...</td>\n",
       "      <td>2</td>\n",
       "      <td>False</td>\n",
       "      <td>False</td>\n",
       "      <td>True</td>\n",
       "      <td>False</td>\n",
       "      <td>False</td>\n",
       "      <td>False</td>\n",
       "    </tr>\n",
       "    <tr>\n",
       "      <th>4</th>\n",
       "      <td>Plug Walk You know you ain't the plug, so how ...</td>\n",
       "      <td>2</td>\n",
       "      <td>False</td>\n",
       "      <td>False</td>\n",
       "      <td>True</td>\n",
       "      <td>False</td>\n",
       "      <td>False</td>\n",
       "      <td>False</td>\n",
       "    </tr>\n",
       "  </tbody>\n",
       "</table>\n",
       "</div>"
      ],
      "text/plain": [
       "                                                text  emotion_encoded  \\\n",
       "0  [Intro] The homie Young Bop told me He told me...                2   \n",
       "1  I spend too much time thinking about who I'm s...                2   \n",
       "2  [Verse 1] In his boat and through the dark he ...                2   \n",
       "3  [Intro: Mataya] Do you feel, feel Feel, feel D...                2   \n",
       "4  Plug Walk You know you ain't the plug, so how ...                2   \n",
       "\n",
       "   emotion_anger  emotion_fear  emotion_joy  emotion_love  emotion_sadness  \\\n",
       "0          False         False         True         False            False   \n",
       "1          False         False         True         False            False   \n",
       "2          False         False         True         False            False   \n",
       "3          False         False         True         False            False   \n",
       "4          False         False         True         False            False   \n",
       "\n",
       "   emotion_surprise  \n",
       "0             False  \n",
       "1             False  \n",
       "2             False  \n",
       "3             False  \n",
       "4             False  "
      ]
     },
     "execution_count": 11,
     "metadata": {},
     "output_type": "execute_result"
    }
   ],
   "source": [
    "encoded_df.head()"
   ]
  },
  {
   "cell_type": "code",
   "execution_count": 31,
   "id": "245265ac-0094-456f-bd7e-4f5472a1295d",
   "metadata": {},
   "outputs": [],
   "source": [
    "# Features (text column)\n",
    "X = df['text']\n",
    "\n",
    "# Labels (already label-encoded column)\n",
    "y = df['emotion_encoded']"
   ]
  },
  {
   "cell_type": "code",
   "execution_count": 33,
   "id": "30cb6316-06f0-4c44-98b2-efa37507d669",
   "metadata": {},
   "outputs": [
    {
     "name": "stdout",
     "output_type": "stream",
     "text": [
      "📊 Accuracy: 0.5310416666666666\n",
      "\n",
      "🧾 Classification Report:\n",
      "               precision    recall  f1-score   support\n",
      "\n",
      "       anger       0.45      0.58      0.51       796\n",
      "        fear       0.56      0.50      0.53       796\n",
      "         joy       0.39      0.28      0.33       812\n",
      "        love       0.57      0.64      0.60       799\n",
      "     sadness       0.43      0.47      0.45       783\n",
      "    surprise       0.81      0.71      0.76       814\n",
      "\n",
      "    accuracy                           0.53      4800\n",
      "   macro avg       0.53      0.53      0.53      4800\n",
      "weighted avg       0.54      0.53      0.53      4800\n",
      "\n"
     ]
    },
    {
     "data": {
      "image/png": "[encoded data removed]",
      "text/plain": [
       "<Figure size 640x480 with 2 Axes>"
      ]
     },
     "metadata": {},
     "output_type": "display_data"
    }
   ],
   "source": [
    "from sklearn.feature_extraction.text import TfidfVectorizer\n",
    "from sklearn.preprocessing import LabelEncoder\n",
    "from sklearn.model_selection import train_test_split\n",
    "from sklearn.ensemble import RandomForestClassifier\n",
    "from sklearn.metrics import classification_report, confusion_matrix, accuracy_score\n",
    "\n",
    "# Split into train and test\n",
    "\n",
    "X_train, X_test, y_train, y_test = train_test_split(df['text'], df['emotion_encoded'], test_size=0.2, random_state=42)\n",
    "\n",
    "# Convert text to TF-IDF vectors\n",
    "tfidf = TfidfVectorizer(max_features=5000)\n",
    "X_train_tfidf = tfidf.fit_transform(X_train)\n",
    "X_test_tfidf = tfidf.transform(X_test)\n",
    "\n",
    "# Train Random Forest Classifier\n",
    "rf = RandomForestClassifier(n_estimators=100, random_state=42)\n",
    "rf.fit(X_train_tfidf, y_train)\n",
    "\n",
    "# Predict on test set\n",
    "y_pred = rf.predict(X_test_tfidf)\n",
    "\n",
    "# Evaluation\n",
    "print(\"📊 Accuracy:\", accuracy_score(y_test, y_pred))\n",
    "print(\"\\n🧾 Classification Report:\\n\", classification_report(y_test, y_pred, target_names=le.classes_))\n",
    "\n",
    "# Optional: Confusion Matrix\n",
    "import seaborn as sns\n",
    "import matplotlib.pyplot as plt\n",
    "cm = confusion_matrix(y_test, y_pred)\n",
    "sns.heatmap(cm, annot=True, fmt='d', xticklabels=le.classes_, yticklabels=le.classes_, cmap='Blues')\n",
    "plt.xlabel(\"Predicted\")\n",
    "plt.ylabel(\"Actual\")\n",
    "plt.title(\"Confusion Matrix\")\n",
    "plt.show()"
   ]
  },
  {
   "cell_type": "code",
   "execution_count": 14,
   "id": "77ff5a63-cd0d-4624-8cbc-355215476c57",
   "metadata": {},
   "outputs": [
    {
     "data": {
      "text/plain": [
       "0    [Intro] The homie Young Bop told me He told me...\n",
       "1    I spend too much time thinking about who I'm s...\n",
       "2    [Verse 1] In his boat and through the dark he ...\n",
       "3    [Intro: Mataya] Do you feel, feel Feel, feel D...\n",
       "4    Plug Walk You know you ain't the plug, so how ...\n",
       "Name: text, dtype: object"
      ]
     },
     "execution_count": 14,
     "metadata": {},
     "output_type": "execute_result"
    }
   ],
   "source": [
    "X.head()"
   ]
  },
  {
   "cell_type": "code",
   "execution_count": 16,
   "id": "da79a0f7-0531-4613-9a58-460707bebbde",
   "metadata": {},
   "outputs": [
    {
     "data": {
      "text/plain": [
       "0    2\n",
       "1    2\n",
       "2    2\n",
       "3    2\n",
       "4    2\n",
       "Name: emotion_encoded, dtype: int64"
      ]
     },
     "execution_count": 16,
     "metadata": {},
     "output_type": "execute_result"
    }
   ],
   "source": [
    "y.head()"
   ]
  },
  {
   "cell_type": "code",
   "execution_count": 19,
   "id": "1ae85c43-02c4-42b7-b5a4-d069cd9bf5d5",
   "metadata": {},
   "outputs": [
    {
     "name": "stdout",
     "output_type": "stream",
     "text": [
      "Index(['text', 'emotion', 'emotion_encoded'], dtype='object')\n"
     ]
    }
   ],
   "source": [
    "print(df.columns)\n"
   ]
  },
  {
   "cell_type": "code",
   "execution_count": null,
   "id": "9f5f9197-b4b0-4d3f-98d1-f1b13df0703b",
   "metadata": {},
   "outputs": [],
   "source": []
  }
 ],
 "metadata": {
  "kernelspec": {
   "display_name": "Python 3 (ipykernel)",
   "language": "python",
   "name": "python3"
  },
  "language_info": {
   "codemirror_mode": {
    "name": "ipython",
    "version": 3
   },
   "file_extension": ".py",
   "mimetype": "text/x-python",
   "name": "python",
   "nbconvert_exporter": "python",
   "pygments_lexer": "ipython3",
   "version": "3.10.11"
  }
 },
 "nbformat": 4,
 "nbformat_minor": 5
}
